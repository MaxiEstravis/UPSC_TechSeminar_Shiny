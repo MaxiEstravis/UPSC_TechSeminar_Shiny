{
  "cells": [
    {
      "cell_type": "raw",
      "metadata": {},
      "source": [
        "---\n",
        "title: \"Shiny basics\"\n",
        "author: \"Maxi Estravis\"\n",
        "date: today\n",
        "format:\n",
        "  revealjs:\n",
        "    logo: UPSC_Logo_color_short.png\n",
        "    footer: \"Tech Seminar May 2024\"\n",
        "    css: logo.css\n",
        "    chalkboard: true\n",
        "    theme: moon\n",
        "    auto-stretch: false\n",
        "---"
      ],
      "id": "64669700"
    },
    {
      "cell_type": "markdown",
      "metadata": {},
      "source": [
        "## What is Shiny?\n",
        ":::: {.columns}\n",
        "\n",
        "::: {.column width=\"70%\"}\n",
        "- Left column 1\n",
        "- Left column 2\n",
        ":::\n",
        "\n",
        "::: {.column width=\"30%\"}\n",
        "![](UPSC_Logo_color_short.png){width=\"70%\"}\n",
        ":::\n",
        "\n",
        "::::\n",
        "\n",
        "\n",
        "\n",
        "## Evening\n",
        "- Get in bed\n",
        "- Count sheep\n",
        "\n",
        "## Air Quality\n",
        "\n",
        "\n",
        "```{source}\n",
        "#| echo: false\n",
        "#| code-fold: false\n",
        "#| warning: false\n",
        "\n",
        "ui <- fluidPage()\n",
        "server <- function(input,output) {}\n",
        "shinyApp(ui=ui,server=server)\n",
        "```"
      ],
      "id": "1140e6b6"
    }
  ],
  "metadata": {
    "kernelspec": {
      "display_name": "Python 3",
      "language": "python",
      "name": "python3"
    }
  },
  "nbformat": 4,
  "nbformat_minor": 5
}